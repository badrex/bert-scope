{
 "cells": [
  {
   "cell_type": "code",
   "execution_count": 1,
   "metadata": {},
   "outputs": [],
   "source": [
    "import numpy as np\n",
    "import pandas as pd\n",
    "import matplotlib.pyplot as plt\n",
    "import seaborn as sns\n",
    "from collections import defaultdict, Counter"
   ]
  },
  {
   "cell_type": "code",
   "execution_count": 2,
   "metadata": {},
   "outputs": [],
   "source": [
    "import pickle"
   ]
  },
  {
   "cell_type": "code",
   "execution_count": 3,
   "metadata": {},
   "outputs": [],
   "source": [
    "from typing import List, Dict, Any, Tuple"
   ]
  },
  {
   "cell_type": "code",
   "execution_count": 4,
   "metadata": {},
   "outputs": [],
   "source": [
    "import glob\n",
    "from tqdm.notebook import tqdm\n",
    "import json"
   ]
  },
  {
   "cell_type": "code",
   "execution_count": 5,
   "metadata": {},
   "outputs": [],
   "source": [
    "from datasets import Dataset"
   ]
  },
  {
   "cell_type": "code",
   "execution_count": 6,
   "metadata": {},
   "outputs": [
    {
     "data": {
      "application/vnd.jupyter.widget-view+json": {
       "model_id": "a49a128e565142fcbd99e0707a2ea9fb",
       "version_major": 2,
       "version_minor": 0
      },
      "text/plain": [
       "  0%|          | 0/47837 [00:00<?, ?it/s]"
      ]
     },
     "metadata": {},
     "output_type": "display_data"
    },
    {
     "name": "stdout",
     "output_type": "stream",
     "text": [
      "Number of articles: 47837\n"
     ]
    }
   ],
   "source": [
    "# read articles from desk\n",
    "text_path = 'data/outputs/article_texts_full/' \n",
    "\n",
    "# get all files in the path \n",
    "text_files: List[str] = glob.glob(text_path + '*.txt')\n",
    "\n",
    "documents: List[str] = []\n",
    "document_IDs: List[str] = []\n",
    "\n",
    "for text_path in tqdm(text_files):\n",
    "    with open(text_path, 'r') as f:\n",
    "        document_IDs.append(text_path.split('/')[-1].split('.')[0])\n",
    "\n",
    "        article = f.read()\n",
    "        documents.append(article)\n",
    "\n",
    "\n",
    "print(f\"Number of articles: {len(documents)}\")\n"
   ]
  },
  {
   "cell_type": "code",
   "execution_count": 7,
   "metadata": {},
   "outputs": [
    {
     "data": {
      "text/html": [
       "<div>\n",
       "<style scoped>\n",
       "    .dataframe tbody tr th:only-of-type {\n",
       "        vertical-align: middle;\n",
       "    }\n",
       "\n",
       "    .dataframe tbody tr th {\n",
       "        vertical-align: top;\n",
       "    }\n",
       "\n",
       "    .dataframe thead th {\n",
       "        text-align: right;\n",
       "    }\n",
       "</style>\n",
       "<table border=\"1\" class=\"dataframe\">\n",
       "  <thead>\n",
       "    <tr style=\"text-align: right;\">\n",
       "      <th></th>\n",
       "      <th>id</th>\n",
       "      <th>issn</th>\n",
       "      <th>title</th>\n",
       "      <th>fpage</th>\n",
       "      <th>lpage</th>\n",
       "      <th>year</th>\n",
       "      <th>volume</th>\n",
       "      <th>journal</th>\n",
       "      <th>author</th>\n",
       "      <th>type</th>\n",
       "      <th>...</th>\n",
       "      <th>period</th>\n",
       "      <th>century</th>\n",
       "      <th>pages</th>\n",
       "      <th>sentences</th>\n",
       "      <th>tokens</th>\n",
       "      <th>visualizationLink</th>\n",
       "      <th>doi</th>\n",
       "      <th>jstorLink</th>\n",
       "      <th>hasAbstract</th>\n",
       "      <th>isAbstractOf</th>\n",
       "    </tr>\n",
       "  </thead>\n",
       "  <tbody>\n",
       "    <tr>\n",
       "      <th>0</th>\n",
       "      <td>rspb_1978_0019</td>\n",
       "      <td>0080-4649</td>\n",
       "      <td>The ultrastructure, development and mode of op...</td>\n",
       "      <td>245</td>\n",
       "      <td>267</td>\n",
       "      <td>1978</td>\n",
       "      <td>200</td>\n",
       "      <td>Proceedings of the Royal Society of London. Se...</td>\n",
       "      <td>F. Gwendolen Rees, F. R. S.</td>\n",
       "      <td>article</td>\n",
       "      <td>...</td>\n",
       "      <td>1950</td>\n",
       "      <td>1900</td>\n",
       "      <td>18</td>\n",
       "      <td>516</td>\n",
       "      <td>12065</td>\n",
       "      <td>http://corpora.clarin-d.uni-saarland.de/surpri...</td>\n",
       "      <td>10.1098/rspb.1978.0019</td>\n",
       "      <td>NaN</td>\n",
       "      <td>NaN</td>\n",
       "      <td>NaN</td>\n",
       "    </tr>\n",
       "    <tr>\n",
       "      <th>1</th>\n",
       "      <td>103420</td>\n",
       "      <td>02607085</td>\n",
       "      <td>A Description of an Aurora Borealis, Seen on t...</td>\n",
       "      <td>186</td>\n",
       "      <td>190</td>\n",
       "      <td>1720</td>\n",
       "      <td>31</td>\n",
       "      <td>Philosophical Transactions (1683-1775)</td>\n",
       "      <td>Samuel Cruwys</td>\n",
       "      <td>fla</td>\n",
       "      <td>...</td>\n",
       "      <td>1700</td>\n",
       "      <td>1700</td>\n",
       "      <td>5</td>\n",
       "      <td>31</td>\n",
       "      <td>1176</td>\n",
       "      <td>http://corpora.clarin-d.uni-saarland.de/surpri...</td>\n",
       "      <td>10.1098/rstl.1720.0046</td>\n",
       "      <td>http://www.jstor.org/stable/103420</td>\n",
       "      <td>NaN</td>\n",
       "      <td>NaN</td>\n",
       "    </tr>\n",
       "    <tr>\n",
       "      <th>2</th>\n",
       "      <td>rsbm_1945_0009</td>\n",
       "      <td>1479-571X</td>\n",
       "      <td>John Jacob Fox, 1874 - 1944</td>\n",
       "      <td>141</td>\n",
       "      <td>157</td>\n",
       "      <td>1945</td>\n",
       "      <td>5</td>\n",
       "      <td>Obituary Notices of Fellows of the Royal Society</td>\n",
       "      <td>Robert Robertson|John Jacob Fox</td>\n",
       "      <td>biography</td>\n",
       "      <td>...</td>\n",
       "      <td>1900</td>\n",
       "      <td>1900</td>\n",
       "      <td>2</td>\n",
       "      <td>499</td>\n",
       "      <td>9172</td>\n",
       "      <td>http://corpora.clarin-d.uni-saarland.de/surpri...</td>\n",
       "      <td>10.1098/rsbm.1945.0009</td>\n",
       "      <td>NaN</td>\n",
       "      <td>NaN</td>\n",
       "      <td>NaN</td>\n",
       "    </tr>\n",
       "    <tr>\n",
       "      <th>3</th>\n",
       "      <td>110721</td>\n",
       "      <td>03655695</td>\n",
       "      <td>On the Production of Heat by Voltaic Electrici...</td>\n",
       "      <td>280</td>\n",
       "      <td>282</td>\n",
       "      <td>1837</td>\n",
       "      <td>4</td>\n",
       "      <td>Abstracts of the Papers Printed in the Philoso...</td>\n",
       "      <td>J. P. Joule</td>\n",
       "      <td>abs</td>\n",
       "      <td>...</td>\n",
       "      <td>1800</td>\n",
       "      <td>1800</td>\n",
       "      <td>3</td>\n",
       "      <td>20</td>\n",
       "      <td>653</td>\n",
       "      <td>http://corpora.clarin-d.uni-saarland.de/surpri...</td>\n",
       "      <td>NaN</td>\n",
       "      <td>http://www.jstor.org/stable/110721</td>\n",
       "      <td>NaN</td>\n",
       "      <td>NaN</td>\n",
       "    </tr>\n",
       "    <tr>\n",
       "      <th>4</th>\n",
       "      <td>rspb_1959_0017</td>\n",
       "      <td>0080-4649</td>\n",
       "      <td>Electron microscopy of collagen-like connectiv...</td>\n",
       "      <td>233</td>\n",
       "      <td>239</td>\n",
       "      <td>1959</td>\n",
       "      <td>150</td>\n",
       "      <td>Proceedings of the Royal Society of London. Se...</td>\n",
       "      <td>E. G. Gray|J. Z. Young, F. R. S.</td>\n",
       "      <td>article</td>\n",
       "      <td>...</td>\n",
       "      <td>1950</td>\n",
       "      <td>1900</td>\n",
       "      <td>6</td>\n",
       "      <td>186</td>\n",
       "      <td>3981</td>\n",
       "      <td>http://corpora.clarin-d.uni-saarland.de/surpri...</td>\n",
       "      <td>10.1098/rspb.1959.0017</td>\n",
       "      <td>NaN</td>\n",
       "      <td>NaN</td>\n",
       "      <td>NaN</td>\n",
       "    </tr>\n",
       "  </tbody>\n",
       "</table>\n",
       "<p>5 rows × 25 columns</p>\n",
       "</div>"
      ],
      "text/plain": [
       "               id       issn  \\\n",
       "0  rspb_1978_0019  0080-4649   \n",
       "1          103420   02607085   \n",
       "2  rsbm_1945_0009  1479-571X   \n",
       "3          110721   03655695   \n",
       "4  rspb_1959_0017  0080-4649   \n",
       "\n",
       "                                               title fpage lpage  year  \\\n",
       "0  The ultrastructure, development and mode of op...   245   267  1978   \n",
       "1  A Description of an Aurora Borealis, Seen on t...   186   190  1720   \n",
       "2                        John Jacob Fox, 1874 - 1944   141   157  1945   \n",
       "3  On the Production of Heat by Voltaic Electrici...   280   282  1837   \n",
       "4  Electron microscopy of collagen-like connectiv...   233   239  1959   \n",
       "\n",
       "   volume                                            journal  \\\n",
       "0     200  Proceedings of the Royal Society of London. Se...   \n",
       "1      31             Philosophical Transactions (1683-1775)   \n",
       "2       5   Obituary Notices of Fellows of the Royal Society   \n",
       "3       4  Abstracts of the Papers Printed in the Philoso...   \n",
       "4     150  Proceedings of the Royal Society of London. Se...   \n",
       "\n",
       "                             author       type  ...  period century pages  \\\n",
       "0       F. Gwendolen Rees, F. R. S.    article  ...    1950    1900    18   \n",
       "1                     Samuel Cruwys        fla  ...    1700    1700     5   \n",
       "2   Robert Robertson|John Jacob Fox  biography  ...    1900    1900     2   \n",
       "3                       J. P. Joule        abs  ...    1800    1800     3   \n",
       "4  E. G. Gray|J. Z. Young, F. R. S.    article  ...    1950    1900     6   \n",
       "\n",
       "  sentences  tokens                                  visualizationLink  \\\n",
       "0       516   12065  http://corpora.clarin-d.uni-saarland.de/surpri...   \n",
       "1        31    1176  http://corpora.clarin-d.uni-saarland.de/surpri...   \n",
       "2       499    9172  http://corpora.clarin-d.uni-saarland.de/surpri...   \n",
       "3        20     653  http://corpora.clarin-d.uni-saarland.de/surpri...   \n",
       "4       186    3981  http://corpora.clarin-d.uni-saarland.de/surpri...   \n",
       "\n",
       "                      doi                           jstorLink  hasAbstract  \\\n",
       "0  10.1098/rspb.1978.0019                                 NaN          NaN   \n",
       "1  10.1098/rstl.1720.0046  http://www.jstor.org/stable/103420          NaN   \n",
       "2  10.1098/rsbm.1945.0009                                 NaN          NaN   \n",
       "3                     NaN  http://www.jstor.org/stable/110721          NaN   \n",
       "4  10.1098/rspb.1959.0017                                 NaN          NaN   \n",
       "\n",
       "   isAbstractOf  \n",
       "0           NaN  \n",
       "1           NaN  \n",
       "2           NaN  \n",
       "3           NaN  \n",
       "4           NaN  \n",
       "\n",
       "[5 rows x 25 columns]"
      ]
     },
     "execution_count": 7,
     "metadata": {},
     "output_type": "execute_result"
    }
   ],
   "source": [
    "metadata_df = pd.read_csv('data/outputs/rsc_metadata_full.csv')\n",
    "metadata_df.head()"
   ]
  },
  {
   "cell_type": "code",
   "execution_count": 8,
   "metadata": {},
   "outputs": [
    {
     "data": {
      "application/vnd.jupyter.widget-view+json": {
       "model_id": "076e288021a64d4d922b2e2dac14d058",
       "version_major": 2,
       "version_minor": 0
      },
      "text/plain": [
       "  0%|          | 0/47837 [00:00<?, ?it/s]"
      ]
     },
     "metadata": {},
     "output_type": "display_data"
    }
   ],
   "source": [
    "# get document titles from metadata\n",
    "\n",
    "document_titles: List[str] = []\n",
    "\n",
    "# TODO: this is very slow, should be optimized\n",
    "for doc_id in tqdm(document_IDs):\n",
    "\n",
    "    # add document text to the metadata\n",
    "    metadata_df.loc[metadata_df['id'] == doc_id, 'text'] = documents[document_IDs.index(doc_id)]"
   ]
  },
  {
   "cell_type": "code",
   "execution_count": 9,
   "metadata": {},
   "outputs": [],
   "source": [
    "\n",
    "# convert to HuggingFace dataset\n",
    "hf_dataset = Dataset.from_pandas(metadata_df)\n"
   ]
  },
  {
   "cell_type": "code",
   "execution_count": 10,
   "metadata": {},
   "outputs": [
    {
     "data": {
      "text/plain": [
       "Dataset({\n",
       "    features: ['id', 'issn', 'title', 'fpage', 'lpage', 'year', 'volume', 'journal', 'author', 'type', 'corpusBuild', 'doiLink', 'language', 'jrnl', 'decade', 'period', 'century', 'pages', 'sentences', 'tokens', 'visualizationLink', 'doi', 'jstorLink', 'hasAbstract', 'isAbstractOf', 'text'],\n",
       "    num_rows: 47837\n",
       "})"
      ]
     },
     "execution_count": 10,
     "metadata": {},
     "output_type": "execute_result"
    }
   ],
   "source": [
    "hf_dataset"
   ]
  },
  {
   "cell_type": "code",
   "execution_count": 11,
   "metadata": {},
   "outputs": [
    {
     "data": {
      "application/vnd.jupyter.widget-view+json": {
       "model_id": "53ec79f8743e40f48d259e8c2ce507d7",
       "version_major": 2,
       "version_minor": 0
      },
      "text/plain": [
       "Saving the dataset (0/3 shards):   0%|          | 0/47837 [00:00<?, ? examples/s]"
      ]
     },
     "metadata": {},
     "output_type": "display_data"
    }
   ],
   "source": [
    "hf_dataset.save_to_disk('data/outputs/hf_dataset_full')"
   ]
  },
  {
   "cell_type": "code",
   "execution_count": 12,
   "metadata": {},
   "outputs": [
    {
     "data": {
      "application/vnd.jupyter.widget-view+json": {
       "model_id": "70c6b2cc01c44a12a18c34935706ef5a",
       "version_major": 2,
       "version_minor": 0
      },
      "text/plain": [
       "Uploading the dataset shards:   0%|          | 0/3 [00:00<?, ?it/s]"
      ]
     },
     "metadata": {},
     "output_type": "display_data"
    },
    {
     "data": {
      "application/vnd.jupyter.widget-view+json": {
       "model_id": "1a4f8814e925456f8ecc2ebf1a9233c3",
       "version_major": 2,
       "version_minor": 0
      },
      "text/plain": [
       "Creating parquet from Arrow format:   0%|          | 0/16 [00:00<?, ?ba/s]"
      ]
     },
     "metadata": {},
     "output_type": "display_data"
    },
    {
     "data": {
      "application/vnd.jupyter.widget-view+json": {
       "model_id": "640ed9770d144b1d8b35129be3fe8b31",
       "version_major": 2,
       "version_minor": 0
      },
      "text/plain": [
       "Creating parquet from Arrow format:   0%|          | 0/16 [00:00<?, ?ba/s]"
      ]
     },
     "metadata": {},
     "output_type": "display_data"
    },
    {
     "data": {
      "application/vnd.jupyter.widget-view+json": {
       "model_id": "e1939a1360fb4194bafdaab927ef31c2",
       "version_major": 2,
       "version_minor": 0
      },
      "text/plain": [
       "Creating parquet from Arrow format:   0%|          | 0/16 [00:00<?, ?ba/s]"
      ]
     },
     "metadata": {},
     "output_type": "display_data"
    },
    {
     "data": {
      "text/plain": [
       "CommitInfo(commit_url='https://huggingface.co/datasets/badrex/rsc_articles_full/commit/b22e19d70a589df106ec1998deaaaa009adfb314', commit_message='Upload dataset', commit_description='', oid='b22e19d70a589df106ec1998deaaaa009adfb314', pr_url=None, pr_revision=None, pr_num=None)"
      ]
     },
     "execution_count": 12,
     "metadata": {},
     "output_type": "execute_result"
    }
   ],
   "source": [
    "# push to HuggingFace dataset hub\n",
    "hf_dataset.push_to_hub('rsc_articles_full', private=True)"
   ]
  },
  {
   "cell_type": "code",
   "execution_count": null,
   "metadata": {},
   "outputs": [],
   "source": []
  }
 ],
 "metadata": {
  "kernelspec": {
   "display_name": "topic_model",
   "language": "python",
   "name": "python3"
  },
  "language_info": {
   "codemirror_mode": {
    "name": "ipython",
    "version": 3
   },
   "file_extension": ".py",
   "mimetype": "text/x-python",
   "name": "python",
   "nbconvert_exporter": "python",
   "pygments_lexer": "ipython3",
   "version": "3.11.5"
  }
 },
 "nbformat": 4,
 "nbformat_minor": 2
}
