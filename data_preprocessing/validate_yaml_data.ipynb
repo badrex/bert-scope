{
 "cells": [
  {
   "cell_type": "code",
   "execution_count": 1,
   "metadata": {},
   "outputs": [],
   "source": [
    "import numpy as np\n",
    "from collections import defaultdict, Counter, OrderedDict\n",
    "import pickle\n",
    "import yaml, json\n",
    "from schema import Schema, And, Use, Optional, SchemaError\n",
    "\n",
    "from tqdm.notebook import tqdm"
   ]
  },
  {
   "cell_type": "code",
   "execution_count": 2,
   "metadata": {},
   "outputs": [],
   "source": [
    "#from typing import List, Optional\n",
    "#from pydantic import BaseModel\n",
    "\n",
    "from pathlib import Path"
   ]
  },
  {
   "cell_type": "code",
   "execution_count": 3,
   "metadata": {},
   "outputs": [],
   "source": [
    "# Specify the file paths\n",
    "file_paths = [\n",
    "    f\"../data/dicts/doc2yaml_{year}.pkl\"\n",
    "    for year in range(1660, 2000, 10)  \n",
    "]"
   ]
  },
  {
   "cell_type": "code",
   "execution_count": 4,
   "metadata": {},
   "outputs": [
    {
     "data": {
      "text/plain": [
       "34"
      ]
     },
     "execution_count": 4,
     "metadata": {},
     "output_type": "execute_result"
    }
   ],
   "source": [
    "len(file_paths)"
   ]
  },
  {
   "cell_type": "code",
   "execution_count": 5,
   "metadata": {},
   "outputs": [
    {
     "data": {
      "application/vnd.jupyter.widget-view+json": {
       "model_id": "18d5f1d1e34d4f2fb11d151b00ff1457",
       "version_major": 2,
       "version_minor": 0
      },
      "text/plain": [
       "  0%|          | 0/34 [00:00<?, ?it/s]"
      ]
     },
     "metadata": {},
     "output_type": "display_data"
    }
   ],
   "source": [
    "doc2text = {}\n",
    "\n",
    "for file_path in tqdm(file_paths):\n",
    "\n",
    "    # Read the dictionary from the file\n",
    "    with open(file_path, \"rb\") as file:\n",
    "        doc2text_decade = pickle.load(file)\n",
    "\n",
    "        # and then update the doc2text dictionary\n",
    "        doc2text.update(doc2text_decade)"
   ]
  },
  {
   "cell_type": "code",
   "execution_count": 6,
   "metadata": {},
   "outputs": [
    {
     "data": {
      "text/plain": [
       "47837"
      ]
     },
     "execution_count": 6,
     "metadata": {},
     "output_type": "execute_result"
    }
   ],
   "source": [
    "len(doc2text)"
   ]
  },
  {
   "cell_type": "code",
   "execution_count": 7,
   "metadata": {},
   "outputs": [
    {
     "name": "stdout",
     "output_type": "stream",
     "text": [
      "article_id: 101533\n",
      "revised_title: 'Kermes Grain: A Natural Dye for Wool'\n",
      "semantic_tags:\n",
      "  - Dyeing\n",
      "  - Natural dyes\n",
      "  - Wool processing\n",
      "  - Textile arts\n",
      "  - Botany\n",
      "tldr: The author describes the process of extracting a red dye from the grain of kermes, a substance found on a shrub in Languedock. The dye is obtained by spreading the ripe grain on linen, separating the red powder, and exposing it to the sun. The resulting dye is used for coloring wool. The author also notes that if the powder is not treated with an acid, it forms small flies that change color before dying.\n",
      "scientific_discipline: Chemistry > Materials Science\n",
      "```\n"
     ]
    }
   ],
   "source": [
    "for l in doc2text['101533'].split('\\n'):\n",
    "    print(l)"
   ]
  },
  {
   "cell_type": "code",
   "execution_count": 8,
   "metadata": {},
   "outputs": [
    {
     "name": "stdout",
     "output_type": "stream",
     "text": [
      "('revised_title', 'Caution: This is a title')\n",
      "('topics', '')\n"
     ]
    }
   ],
   "source": [
    "def get_key_value_pair(line_str):\n",
    "    \"\"\"\n",
    "    Given a str as in 'revised_title: \"Caution: This is title\"', \n",
    "    return a tuple ('revised_title', \"Caution: This is title\")\n",
    "    \"\"\"\n",
    "    first_colon_index = line_str.find(\":\")\n",
    "\n",
    "    if first_colon_index != -1:\n",
    "        key_str = line_str[:first_colon_index].strip()\n",
    "\n",
    "        # when \" '...' \",  we don't need the outer double quotes, and \n",
    "        # when ' \"...\" ',  we don't need the outer single quotes\n",
    "        # so we take everything except first and last char via [1:-1]\n",
    "        # but only if necessary\n",
    "        if line_str[-1] != \":\":\n",
    "\n",
    "            # remove leading and trailing whitespaces if any\n",
    "            in_progress_str = line_str[first_colon_index + 1:].strip()\n",
    "\n",
    "            #print(in_progress_str)\n",
    "            leading_char = in_progress_str[0]\n",
    "            trailing_char = in_progress_str[-1]\n",
    "        \n",
    "\n",
    "            if leading_char == '\"' and trailing_char == '\"':\n",
    "                value_str = in_progress_str[1:-1].strip()\n",
    "\n",
    "            elif leading_char == \"'\" and trailing_char == \"'\":\n",
    "                value_str = in_progress_str[1:-1].strip()\n",
    "\n",
    "            else:\n",
    "                value_str = in_progress_str.strip()#[1:-1]\n",
    "        else:\n",
    "            value_str = ''\n",
    "\n",
    "    else:\n",
    "        # no colon in the line\n",
    "        return (line_str, None)\n",
    "\n",
    "    return key_str, value_str\n",
    "\n",
    "# write test cases for the function get_key_value_pair\n",
    "print(get_key_value_pair('revised_title: \"Caution: This is a title\"'))\n",
    "print(get_key_value_pair('topics:') )\n",
    "\n",
    "assert get_key_value_pair('revised_title: \"Caution: This is a title\"') == ('revised_title', 'Caution: This is a title')\n",
    "assert get_key_value_pair('topics:') == ('topics', '')"
   ]
  },
  {
   "cell_type": "code",
   "execution_count": 9,
   "metadata": {},
   "outputs": [
    {
     "name": "stdout",
     "output_type": "stream",
     "text": [
      "All test cases passed!\n"
     ]
    }
   ],
   "source": [
    "# Test case 1: Valid input with colon\n",
    "line_str = 'revised_title: \"Caution: This is title\"'\n",
    "expected_output = ('revised_title', 'Caution: This is title')\n",
    "assert get_key_value_pair(line_str) == expected_output\n",
    "\n",
    "# Test case 2: Valid input without colon\n",
    "#line_str = 'revised_title \"Caution: This is title\"'\n",
    "#expected_output = None\n",
    "#assert get_key_value_pair(line_str) == expected_output\n",
    "\n",
    "# Test case 3: Empty input\n",
    "line_str = ''\n",
    "expected_output = (line_str, None)\n",
    "assert get_key_value_pair(line_str) == expected_output\n",
    "\n",
    "# Test case 4: Input with leading/trailing spaces\n",
    "line_str = '  revised_title: Caution: This is title  '\n",
    "expected_output = ('revised_title', 'Caution: This is title')\n",
    "assert get_key_value_pair(line_str) == expected_output\n",
    "\n",
    "# Test case 5: Input with multiple colons\n",
    "line_str = 'revised_title: Caution: This: is: title'\n",
    "expected_output = ('revised_title', 'Caution: This: is: title')\n",
    "assert get_key_value_pair(line_str) == expected_output\n",
    "\n",
    "# Test case 6: Input with without colons but with topic list iterm\n",
    "line_str = '- \"Geometry\"'\n",
    "expected_output = (line_str, None)\n",
    "assert get_key_value_pair(line_str) == expected_output\n",
    "\n",
    "print(\"All test cases passed!\")"
   ]
  },
  {
   "cell_type": "code",
   "execution_count": 10,
   "metadata": {},
   "outputs": [
    {
     "data": {
      "application/vnd.jupyter.widget-view+json": {
       "model_id": "c456a05bcdca4e8b9bc2eecf88ce8594",
       "version_major": 2,
       "version_minor": 0
      },
      "text/plain": [
       "  0%|          | 0/47837 [00:00<?, ?it/s]"
      ]
     },
     "metadata": {},
     "output_type": "display_data"
    }
   ],
   "source": [
    "# write each string in doc2text as a text file on disk\n",
    "# maintain encoded text in the file \n",
    "\n",
    "for doc_id, text in tqdm(doc2text.items()):\n",
    "    with open(f\"../data/llm_plain_texts/{doc_id}.txt\", \"w\", encoding='utf-8') as file:\n",
    "        file.write(text)"
   ]
  },
  {
   "cell_type": "code",
   "execution_count": 11,
   "metadata": {},
   "outputs": [
    {
     "data": {
      "application/vnd.jupyter.widget-view+json": {
       "model_id": "0eb291b1d5074239919d534e6ff8225c",
       "version_major": 2,
       "version_minor": 0
      },
      "text/plain": [
       "Parsing yaml string into dictionary:   0%|          | 0/47837 [00:00<?, ?it/s]"
      ]
     },
     "metadata": {},
     "output_type": "display_data"
    }
   ],
   "source": [
    "# parse yaml string into dictionary\n",
    "doc2dict = {}\n",
    "\n",
    "for doc in tqdm(\n",
    "    doc2text, desc=\"Parsing yaml string into dictionary\", \n",
    "    total=len(doc2text)\n",
    "    ):\n",
    "\n",
    "    #print(doc, doc2text[doc])\n",
    "\n",
    "    doc2dict[doc] = {} # perhaps consider OrderedDict() instead \n",
    "    lines = doc2text[doc].split(\"\\n\")\n",
    "\n",
    "    # expected number of lines for each yaml is 12\n",
    "    # if there is more, we need to do some cleaning\n",
    "\n",
    "    # zeroth case: sometimes there are empty lines\n",
    "    # get rid of them\n",
    "    lines = [l for l in lines if len(l) > 0]\n",
    "\n",
    "    if len(lines) > 11:\n",
    "        \n",
    "        if lines[0].startswith(\"article_id: \"): \n",
    "\n",
    "            if lines[-1].startswith(\"scientific_subdiscipline: \"):\n",
    "                # first case: there are more than 5 topics \n",
    "                # this is OK, as long as first & last line \n",
    "                # behave as expected \n",
    "                pass # do nothing here for now \n",
    "            \n",
    "            #elif lines[-2].startswith(\"scientific_discipline_2: \"):\n",
    "                # second case: sometimes the LLM add things like \n",
    "                # another category, e.g.,\n",
    "                # scientific_discipline_2, scientific_subdiscipline_2\n",
    "                # remove the last two lines and see how that works \n",
    "                #lines = lines[:-2]\n",
    "\n",
    "            #elif lines[-1].startswith(\"scientific_subdiscipline_2: \"):\n",
    "                # third case: sometimes the LLM add things like \n",
    "                # an additional subcategory e.g., \n",
    "                # scientific_subdiscipline_2, scientific_subdiscipline_3\n",
    "                # remove the last two lines and see how that works \n",
    "                #lines = lines[:-1] \n",
    "\n",
    "            elif lines[-1].startswith(\"```\"):  \n",
    "                # third case: sometimes the LLM output yaml output\n",
    "                # twice! with additional ```yaml ... ``` at the end\n",
    "                # remove the additional text to handle this case\n",
    "                for i, l in enumerate(lines):\n",
    "                    if l.startswith(\"```\"):\n",
    "                        lines = lines[:i]\n",
    "                        break\n",
    "\n",
    "    # a variable to keep track of whether we are reading a list\n",
    "    # and it toggled to True when we see a the key 'topics'\n",
    "    isTopicList = False\n",
    "\n",
    "    for i, line in enumerate(lines):\n",
    "\n",
    "        key_str, value_str = get_key_value_pair(line)\n",
    "\n",
    "        # check if key string is YAML leading '```' or '´´´\n",
    "        # if so, skip this line\n",
    "        if key_str[:3] == '```':\n",
    "            continue\n",
    "        elif key_str[:3] == '´´´':\n",
    "            continue\n",
    "\n",
    "        # if a key-value pair (e.g., 'article_id: 12345')\n",
    "        # simply read as key and value\n",
    "\n",
    "        if key_str and value_str: \n",
    "            \n",
    "            #if key_str == 'article_id':\n",
    "            #value_str = str(value_str) # force this value to be string\n",
    "\n",
    "            doc2dict[doc][key_str] = str(value_str) \n",
    "\n",
    "            continue # move to the next line\n",
    "\n",
    "        # if a key followed by list items, read all list items\n",
    "        elif key_str == 'semantic_tags' and not isTopicList: \n",
    "                #key = line_tokens[0] \n",
    "                topic_key_str = key_str\n",
    "                doc2dict[doc][topic_key_str] = []\n",
    "\n",
    "                isTopicList = True \n",
    "                continue # move to the next line to get first list item\n",
    "        \n",
    "        elif isTopicList:\n",
    "            line_tokens = line.split(\" - \")\n",
    "\n",
    "            # in some cases semantig tags key is repeated more than once \n",
    "            # to fix this, skip line if it does not have a list item\n",
    "            if len(line_tokens) < 2:\n",
    "                continue\n",
    "\n",
    "            try: \n",
    "                topic_item = line_tokens[1].strip()#[1:-1]\n",
    "\n",
    "                # tp aovid duplicates, only add if not already in the list\n",
    "                if topic_item not in doc2dict[doc][topic_key_str]:\n",
    "                    doc2dict[doc][topic_key_str].append(topic_item)\n",
    "\n",
    "            except IndexError:\n",
    "                print(f\"X {doc} did not parsee due to IndexError {key_str}, {len(lines)},  {lines[0]}\") \n",
    "                # {line_tokens}, {lines},\n"
   ]
  },
  {
   "cell_type": "code",
   "execution_count": 23,
   "metadata": {},
   "outputs": [
    {
     "data": {
      "text/plain": [
       "{'article_id': 'rstb_1911_0004',\n",
       " 'revised_title': 'The Lignite of Bovey Tracey: A Reassessment of Age and Flora',\n",
       " 'semantic_tags': ['Paleontology',\n",
       "  'Geology',\n",
       "  'Botany',\n",
       "  'Oligocene period',\n",
       "  'Lignite'],\n",
       " 'scientific_discipline': 'Earth Sciences > Geology'}"
      ]
     },
     "execution_count": 23,
     "metadata": {},
     "output_type": "execute_result"
    }
   ],
   "source": [
    "doc2dict['rstb_1911_0004']"
   ]
  },
  {
   "cell_type": "code",
   "execution_count": 21,
   "metadata": {},
   "outputs": [
    {
     "name": "stdout",
     "output_type": "stream",
     "text": [
      "101889 is not a valid YAML!\n",
      "101839 is not a valid YAML!\n",
      "102506 is not a valid YAML!\n",
      "101992 is not a valid YAML!\n",
      "105795 is not a valid YAML!\n",
      "107230 is not a valid YAML!\n",
      "108200 is not a valid YAML!\n",
      "108278 is not a valid YAML!\n",
      "112723 is not a valid YAML!\n",
      "108771 is not a valid YAML!\n",
      "112791 is not a valid YAML!\n",
      "112368 is not a valid YAML!\n",
      "rspl_1872_0003 is not a valid YAML!\n",
      "rspl_1873_0018 is not a valid YAML!\n",
      "rspl_1878_0002 is not a valid YAML!\n",
      "rspl_1873_0004 is not a valid YAML!\n",
      "rspl_1887_0177 is not a valid YAML!\n",
      "rspl_1883_0002 is not a valid YAML!\n",
      "rspl_1887_0172 is not a valid YAML!\n",
      "rspl_1887_0109 is not a valid YAML!\n",
      "rspl_1887_0141 is not a valid YAML!\n",
      "rspl_1886_0079 is not a valid YAML!\n",
      "rspl_1885_0002 is not a valid YAML!\n",
      "rspl_1880_0079 is not a valid YAML!\n",
      "rspl_1886_0083 is not a valid YAML!\n",
      "rsta_1897_0015 is not a valid YAML!\n",
      "rspl_1892_0068 is not a valid YAML!\n",
      "rspl_1897_0042 is not a valid YAML!\n",
      "rspa_1906_0001 is not a valid YAML!\n",
      "rspl_1900_0039 is not a valid YAML!\n",
      "rsta_1906_0004 is not a valid YAML!\n",
      "rspa_1906_0004 is not a valid YAML!\n",
      "rspl_1903_0035 is not a valid YAML!\n",
      "rspa_1915_0001 is not a valid YAML!\n",
      "rspa_1913_0044 is not a valid YAML!\n",
      "rspb_1911_0024 is not a valid YAML!\n",
      "rstb_1915_0002 is not a valid YAML!\n",
      "rstb_1911_0004 is not a valid YAML!\n",
      "rspa_1910_0043 is not a valid YAML!\n",
      "rstb_1928_0003 is not a valid YAML!\n",
      "rspa_1925_0144 is not a valid YAML!\n",
      "rspb_1927_0019 is not a valid YAML!\n",
      "rspa_1928_0001 is not a valid YAML!\n",
      "rspa_1925_0119 is not a valid YAML!\n",
      "rspb_1939_0032 is not a valid YAML!\n",
      "rsbm_1933_0011 is not a valid YAML!\n",
      "rsbm_1936_0011 is not a valid YAML!\n",
      "rspa_1934_0159 is not a valid YAML!\n",
      "rspa_1936_0114 is not a valid YAML!\n",
      "rspa_1935_0001 is not a valid YAML!\n",
      "rspa_1931_0068 is not a valid YAML!\n",
      "rspa_1937_0042 is not a valid YAML!\n",
      "rspa_1931_0143 is not a valid YAML!\n",
      "rspb_1930_0007 is not a valid YAML!\n",
      "rsbm_1948_0020 is not a valid YAML!\n",
      "rspa_1942_0016 is not a valid YAML!\n",
      "rspa_1949_0044 is not a valid YAML!\n",
      "rsbm_1949_0017 is not a valid YAML!\n",
      "rsbm_1942_0009 is not a valid YAML!\n",
      "rsbm_1943_0010 is not a valid YAML!\n",
      "rsbm_1948_0003 is not a valid YAML!\n",
      "rsta_1948_0011 is not a valid YAML!\n",
      "rsbm_1941_0039 is not a valid YAML!\n",
      "rspa_1941_0009 is not a valid YAML!\n",
      "rspa_1959_0168 is not a valid YAML!\n",
      "rspa_1958_0052 is not a valid YAML!\n",
      "rsbm_1953_0011 is not a valid YAML!\n",
      "rspa_1952_0124 is not a valid YAML!\n",
      "rspa_1952_0175 is not a valid YAML!\n",
      "rsbm_1958_0001 is not a valid YAML!\n",
      "rspa_1951_0245 is not a valid YAML!\n",
      "rspa_1954_0213 is not a valid YAML!\n",
      "rsbm_1951_0012 is not a valid YAML!\n",
      "rspa_1954_0106 is not a valid YAML!\n",
      "rspa_1955_0001 is not a valid YAML!\n",
      "rspa_1957_0108 is not a valid YAML!\n",
      "rspb_1952_0067 is not a valid YAML!\n",
      "rsnr_1952_0009 is not a valid YAML!\n",
      "rspb_1956_0023 is not a valid YAML!\n",
      "rspb_1958_0002 is not a valid YAML!\n",
      "rsbm_1957_0005 is not a valid YAML!\n",
      "rspa_1956_0207 is not a valid YAML!\n",
      "rspa_1951_0119 is not a valid YAML!\n",
      "rsbm_1956_0018 is not a valid YAML!\n",
      "rspa_1953_0150 is not a valid YAML!\n",
      "rspa_1956_0009 is not a valid YAML!\n",
      "rsnr_1954_0009 is not a valid YAML!\n",
      "rsnr_1950_0012 is not a valid YAML!\n",
      "rspa_1956_0056 is not a valid YAML!\n",
      "rsbm_1967_0011 is not a valid YAML!\n",
      "rspa_1963_0092 is not a valid YAML!\n",
      "rsnr_1960_0024 is not a valid YAML!\n",
      "rsnr_1963_0015 is not a valid YAML!\n",
      "rspa_1966_0107 is not a valid YAML!\n",
      "rsbm_1964_0007 is not a valid YAML!\n",
      "rsbm_1961_0001 is not a valid YAML!\n",
      "rspa_1967_0194 is not a valid YAML!\n",
      "rspa_1966_0227 is not a valid YAML!\n",
      "rspa_1968_0094 is not a valid YAML!\n",
      "rspa_1967_0101 is not a valid YAML!\n",
      "rspa_1963_0191 is not a valid YAML!\n",
      "rsbm_1960_0035 is not a valid YAML!\n",
      "rsta_1964_0004 is not a valid YAML!\n",
      "rspb_1964_0009 is not a valid YAML!\n",
      "rspa_1961_0138 is not a valid YAML!\n",
      "rspa_1964_0001 is not a valid YAML!\n",
      "rsbm_1968_0002 is not a valid YAML!\n",
      "rsbm_1967_0015 is not a valid YAML!\n",
      "rsnr_1960_0019 is not a valid YAML!\n",
      "rspa_1965_0067 is not a valid YAML!\n",
      "rspa_1967_0206 is not a valid YAML!\n",
      "rsbm_1966_0004 is not a valid YAML!\n",
      "rspa_1965_0248 is not a valid YAML!\n",
      "rspb_1962_0001 is not a valid YAML!\n",
      "rsbm_1965_0014 is not a valid YAML!\n",
      "rsbm_1963_0017 is not a valid YAML!\n",
      "rsbm_1969_0003 is not a valid YAML!\n",
      "rsbm_1967_0006 is not a valid YAML!\n",
      "rspa_1964_0166 is not a valid YAML!\n",
      "rsbm_1967_0007 is not a valid YAML!\n",
      "rsbm_1962_0007 is not a valid YAML!\n",
      "rsbm_1969_0002 is not a valid YAML!\n",
      "rsta_1966_0058 is not a valid YAML!\n",
      "rspa_1964_0159 is not a valid YAML!\n",
      "rspb_1973_0001 is not a valid YAML!\n",
      "rsta_1970_0065 is not a valid YAML!\n",
      "rspa_1970_0214 is not a valid YAML!\n",
      "rspa_1975_0201 is not a valid YAML!\n",
      "rspb_1977_0026 is not a valid YAML!\n",
      "rspb_1970_0014 is not a valid YAML!\n",
      "rsta_1975_0026 is not a valid YAML!\n",
      "rsta_1973_0010 is not a valid YAML!\n",
      "rstb_1974_0025 is not a valid YAML!\n",
      "rsta_1975_0068 is not a valid YAML!\n",
      "rsta_1973_0112 is not a valid YAML!\n",
      "rspa_1970_0140 is not a valid YAML!\n",
      "rsnr_1970_0022 is not a valid YAML!\n",
      "rsnr_1974_0001 is not a valid YAML!\n",
      "rsbm_1977_0011 is not a valid YAML!\n",
      "rspa_1972_0011 is not a valid YAML!\n",
      "rspa_1973_0121 is not a valid YAML!\n",
      "rsta_1970_0022 is not a valid YAML!\n",
      "rsbm_1977_0021 is not a valid YAML!\n",
      "rsbm_1973_0024 is not a valid YAML!\n",
      "rspa_1976_0085 is not a valid YAML!\n",
      "rspa_1970_0167 is not a valid YAML!\n",
      "rsta_1971_0003 is not a valid YAML!\n",
      "rsnr_1977_0015 is not a valid YAML!\n",
      "rstb_1975_0004 is not a valid YAML!\n",
      "rspa_1978_0111 is not a valid YAML!\n",
      "rstb_1970_0034 is not a valid YAML!\n",
      "rsbm_1971_0002 is not a valid YAML!\n",
      "rspa_1975_0048 is not a valid YAML!\n",
      "rsnr_1973_0006 is not a valid YAML!\n",
      "rsbm_1970_0004 is not a valid YAML!\n",
      "rsbm_1972_0021 is not a valid YAML!\n",
      "rspb_1979_0007 is not a valid YAML!\n",
      "rsbm_1971_0020 is not a valid YAML!\n",
      "rsta_1976_0027 is not a valid YAML!\n",
      "rsnr_1971_0006 is not a valid YAML!\n",
      "rsnr_1970_0026 is not a valid YAML!\n",
      "rspa_1979_0084 is not a valid YAML!\n",
      "rspa_1975_0127 is not a valid YAML!\n",
      "rsta_1977_0065 is not a valid YAML!\n",
      "rspa_1978_0179 is not a valid YAML!\n",
      "rsbm_1975_0013 is not a valid YAML!\n",
      "rsbm_1976_0011 is not a valid YAML!\n",
      "rspa_1974_0079 is not a valid YAML!\n",
      "rspb_1972_0046 is not a valid YAML!\n",
      "rstb_1973_0038 is not a valid YAML!\n",
      "rsbm_1973_0017 is not a valid YAML!\n",
      "rsnr_1970_0011 is not a valid YAML!\n",
      "rspa_1974_0027 is not a valid YAML!\n",
      "rsta_1970_0071 is not a valid YAML!\n",
      "rstb_1977_0113 is not a valid YAML!\n",
      "rsta_1970_0038 is not a valid YAML!\n",
      "rspa_1977_0023 is not a valid YAML!\n",
      "rsta_1973_0030 is not a valid YAML!\n",
      "rspb_1978_0002 is not a valid YAML!\n",
      "rsbm_1972_0019 is not a valid YAML!\n",
      "rsta_1977_0108 is not a valid YAML!\n",
      "rstb_1971_0055 is not a valid YAML!\n",
      "rsta_1973_0104 is not a valid YAML!\n",
      "rsnr_1989_0013 is not a valid YAML!\n",
      "rsta_1987_0003 is not a valid YAML!\n",
      "rspb_1982_0089 is not a valid YAML!\n",
      "rsta_1980_0039 is not a valid YAML!\n",
      "rspb_1980_0154 is not a valid YAML!\n",
      "rsta_1981_0151 is not a valid YAML!\n",
      "rspb_1989_0045 is not a valid YAML!\n",
      "rsta_1987_0029 is not a valid YAML!\n",
      "rsta_1982_0087 is not a valid YAML!\n",
      "rspb_1982_0056 is not a valid YAML!\n",
      "rspb_1989_0008 is not a valid YAML!\n",
      "rspb_1986_0030 is not a valid YAML!\n",
      "rstb_1988_0011 is not a valid YAML!\n",
      "rstb_1980_0044 is not a valid YAML!\n",
      "rsnr_1986_0008 is not a valid YAML!\n",
      "rspb_1984_0041 is not a valid YAML!\n",
      "rstb_1982_0018 is not a valid YAML!\n",
      "rspa_1984_0081 is not a valid YAML!\n",
      "rspa_1982_0040 is not a valid YAML!\n",
      "rsbm_1987_0023 is not a valid YAML!\n",
      "rspb_1980_0147 is not a valid YAML!\n",
      "rsbm_1988_0024 is not a valid YAML!\n",
      "rsnr_1985_0003 is not a valid YAML!\n",
      "rsta_1988_0009 is not a valid YAML!\n",
      "rsta_1984_0009 is not a valid YAML!\n",
      "rstb_1988_0078 is not a valid YAML!\n",
      "rsbm_1988_0023 is not a valid YAML!\n",
      "rsbm_1981_0007 is not a valid YAML!\n",
      "rstb_1980_0064 is not a valid YAML!\n",
      "rstb_1984_0050 is not a valid YAML!\n",
      "rsbm_1981_0015 is not a valid YAML!\n",
      "rsta_1981_0018 is not a valid YAML!\n",
      "rsbm_1988_0002 is not a valid YAML!\n",
      "rsbm_1981_0016 is not a valid YAML!\n",
      "rsbm_1982_0022 is not a valid YAML!\n",
      "rsta_1986_0058 is not a valid YAML!\n",
      "rstb_1988_0016 is not a valid YAML!\n",
      "rstb_1988_0071 is not a valid YAML!\n",
      "rspb_1985_0009 is not a valid YAML!\n",
      "rsnr_1982_0010 is not a valid YAML!\n",
      "rstb_1981_0011 is not a valid YAML!\n",
      "rspb_1986_0087 is not a valid YAML!\n",
      "rspb_1980_0001 is not a valid YAML!\n",
      "rsta_1983_0038 is not a valid YAML!\n",
      "rstb_1980_0132 is not a valid YAML!\n",
      "rsbm_1980_0013 is not a valid YAML!\n",
      "rspa_1983_0061 is not a valid YAML!\n",
      "rstb_1987_0061 is not a valid YAML!\n",
      "rsnr_1985_0002 is not a valid YAML!\n",
      "rspa_1983_0130 is not a valid YAML!\n",
      "rsbm_1985_0001 is not a valid YAML!\n",
      "rsta_1982_0019 is not a valid YAML!\n",
      "rspb_1983_0022 is not a valid YAML!\n",
      "rsbm_1981_0023 is not a valid YAML!\n",
      "rspb_1980_0131 is not a valid YAML!\n",
      "rstb_1989_0105 is not a valid YAML!\n",
      "rsbm_1981_0022 is not a valid YAML!\n",
      "rstb_1987_0022 is not a valid YAML!\n",
      "rsbm_1981_0005 is not a valid YAML!\n",
      "rspa_1987_0037 is not a valid YAML!\n",
      "rstb_1990_0102 is not a valid YAML!\n",
      "rspb_1993_0132 is not a valid YAML!\n",
      "rspb_1996_0141 is not a valid YAML!\n",
      "rstb_1990_0025 is not a valid YAML!\n",
      "rsbm_1990_0003 is not a valid YAML!\n",
      "rsnr_1995_0024 is not a valid YAML!\n",
      "rsbm_1995_0003 is not a valid YAML!\n",
      "rspb_1994_0082 is not a valid YAML!\n",
      "rspb_1996_0039 is not a valid YAML!\n",
      "rspb_1994_0052 is not a valid YAML!\n",
      "rspb_1993_0081 is not a valid YAML!\n",
      "rspb_1991_0108 is not a valid YAML!\n",
      "rsta_1990_0077 is not a valid YAML!\n",
      "rspb_1991_0001 is not a valid YAML!\n",
      "rstb_1990_0063 is not a valid YAML!\n",
      "rspa_1992_0093 is not a valid YAML!\n",
      "rstb_1992_0050 is not a valid YAML!\n",
      "rstb_1991_0115 is not a valid YAML!\n",
      "rspb_1995_0214 is not a valid YAML!\n",
      "rstb_1991_0118 is not a valid YAML!\n",
      "rspb_1991_0089 is not a valid YAML!\n",
      "rsbm_1994_0030 is not a valid YAML!\n",
      "rsnr_1995_0023 is not a valid YAML!\n",
      "rstb_1990_0176 is not a valid YAML!\n",
      "rstb_1991_0040 is not a valid YAML!\n",
      "rspa_1991_0125 is not a valid YAML!\n",
      "rsta_1990_0071 is not a valid YAML!\n",
      "rspa_1992_0040 is not a valid YAML!\n",
      "rspa_1993_0007 is not a valid YAML!\n",
      "rsbm_1994_0026 is not a valid YAML!\n",
      "rsnr_1990_0010 is not a valid YAML!\n",
      "rsbm_1990_0024 is not a valid YAML!\n",
      "rspb_1996_0165 is not a valid YAML!\n",
      "rsbm_1994_0004 is not a valid YAML!\n",
      "rsnr_1994_0027 is not a valid YAML!\n",
      "rspb_1991_0024 is not a valid YAML!\n"
     ]
    }
   ],
   "source": [
    "schema = Schema(\n",
    "    {\n",
    "        Optional('article_id'): And(str, lambda s: len(s) >= 0),\n",
    "        'revised_title': And(str, lambda s: len(s) >= 0),\n",
    "        'semantic_tags': And(\n",
    "            list, \n",
    "            lambda tags: all(\n",
    "                isinstance(tag, str) for tag in tags\n",
    "            )\n",
    "        ),\n",
    "        'tldr': And(str, lambda s: len(s) >= 0),\n",
    "        'scientific_discipline': And(str, lambda s: len(s) >= 0),\n",
    "        Optional('sub_discipline'): And(str, lambda s: len(s) >= 0),\n",
    "        #Optional('scientific_subdiscipline_2'): And(str, lambda s: len(s) >= 0)\n",
    "    }\n",
    ")\n",
    "\n",
    "\n",
    "def is_valid_yaml(yaml_str):\n",
    "    try:\n",
    "        schema.validate(yaml_str)\n",
    "        return True #print(\"Data is valid according to the schema.\")\n",
    "        \n",
    "    except Exception as e:\n",
    "        #print(\"Data is not valid according to the schema:\", str(e))\n",
    "        return False\n",
    "\n",
    "doc2yaml = {}\n",
    "for doc, yaml_str in doc2dict.items():\n",
    "    \n",
    "    if not is_valid_yaml(yaml_str):\n",
    "        print(f\"{doc} is not a valid YAML!\")\n",
    "    else:\n",
    "        doc2yaml[doc] = yaml_str"
   ]
  },
  {
   "cell_type": "code",
   "execution_count": 22,
   "metadata": {},
   "outputs": [
    {
     "data": {
      "text/plain": [
       "(47837, 47558, '99.42% valid YAML.')"
      ]
     },
     "execution_count": 22,
     "metadata": {},
     "output_type": "execute_result"
    }
   ],
   "source": [
    "len(doc2text), len(doc2yaml), f\"{(len(doc2yaml)/len(doc2text))*100:.2f}% valid YAML.\""
   ]
  },
  {
   "cell_type": "code",
   "execution_count": 29,
   "metadata": {},
   "outputs": [
    {
     "data": {
      "text/plain": [
       "{'article_id': '112311',\n",
       " 'revised_title': 'Thermo-Electric Currents of Ritterian Species: A Study on Electromotive Force and Metal Tensions',\n",
       " 'topics': ['Thermo-electricity',\n",
       "  'Electromotive Force',\n",
       "  'Ritterian Species',\n",
       "  'Metal Tensions',\n",
       "  'Thermo-electric Inversions'],\n",
       " 'tldr': 'The author, C.K. Akin, investigates the electromotive force of thermo-electric couples and the role of metal tensions in their function. He demonstrates that the electromotive force can be expressed as the difference between two quantities, dependent on the temperature and the nature of the circuit. Akin also explores the influence of the texture and chemical nature of substances on thermo-electric function and discusses the possibility of thermo-electric inversions.',\n",
       " 'scientific_discipline': 'Physics',\n",
       " 'scientific_subdiscipline': 'Electromagnetism & Electromechanical Systems'}"
      ]
     },
     "execution_count": 29,
     "metadata": {},
     "output_type": "execute_result"
    }
   ],
   "source": [
    "doc2yaml['112311']"
   ]
  },
  {
   "cell_type": "code",
   "execution_count": 30,
   "metadata": {},
   "outputs": [
    {
     "data": {
      "application/vnd.jupyter.widget-view+json": {
       "model_id": "9151afcfbbad474686e0dee6854d010a",
       "version_major": 2,
       "version_minor": 0
      },
      "text/plain": [
       "  0%|          | 0/17486 [00:00<?, ?it/s]"
      ]
     },
     "metadata": {},
     "output_type": "display_data"
    }
   ],
   "source": [
    "# save as yaml files\n",
    "\n",
    "for doc, yaml_dict in tqdm(doc2yaml.items()):\n",
    "\n",
    "    file_path = f\"../data/yaml_files/{doc}.yaml\"\n",
    "    \n",
    "    with open(file_path, \"w\", encoding=\"utf-8\") as file:\n",
    "        yaml.safe_dump(yaml_dict, \n",
    "            file,\n",
    "            allow_unicode=True,\n",
    "            encoding='utf-8',\n",
    "            default_flow_style=False\n",
    "        )"
   ]
  },
  {
   "cell_type": "code",
   "execution_count": 31,
   "metadata": {},
   "outputs": [
    {
     "data": {
      "application/vnd.jupyter.widget-view+json": {
       "model_id": "8396e95b5088490cabc25b10410ac420",
       "version_major": 2,
       "version_minor": 0
      },
      "text/plain": [
       "  0%|          | 0/17486 [00:00<?, ?it/s]"
      ]
     },
     "metadata": {},
     "output_type": "display_data"
    }
   ],
   "source": [
    "# save as json files\n",
    "\n",
    "for doc, yaml_dict in tqdm(doc2yaml.items()):\n",
    "\n",
    "    file_path = f\"../data/json_files/{doc}.json\"\n",
    "    \n",
    "    with open(file_path, \"w\", encoding=\"utf-8\") as file:\n",
    "        json.dump(yaml_dict, file)"
   ]
  },
  {
   "cell_type": "code",
   "execution_count": null,
   "metadata": {},
   "outputs": [],
   "source": []
  }
 ],
 "metadata": {
  "kernelspec": {
   "display_name": "bertopic",
   "language": "python",
   "name": "python3"
  },
  "language_info": {
   "codemirror_mode": {
    "name": "ipython",
    "version": 3
   },
   "file_extension": ".py",
   "mimetype": "text/x-python",
   "name": "python",
   "nbconvert_exporter": "python",
   "pygments_lexer": "ipython3",
   "version": "3.11.5"
  }
 },
 "nbformat": 4,
 "nbformat_minor": 2
}
